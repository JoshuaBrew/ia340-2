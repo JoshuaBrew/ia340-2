{
 "cells": [
  {
   "cell_type": "code",
   "execution_count": 1,
   "id": "8736e2c5",
   "metadata": {},
   "outputs": [],
   "source": [
    "import pandas\n",
    "import configparser\n",
    "import psycopg2"
   ]
  },
  {
   "cell_type": "code",
   "execution_count": 2,
   "id": "98dddeb2",
   "metadata": {},
   "outputs": [],
   "source": [
    "config = configparser.ConfigParser()\n",
    "config.read('config.ini')\n",
    "\n",
    "host=config['myaws']['host']\n",
    "db=config['myaws']['db']\n",
    "user=config['myaws']['user']\n",
    "pwd=config['myaws']['pwd']"
   ]
  },
  {
   "cell_type": "code",
   "execution_count": 3,
   "id": "03e0a6b1",
   "metadata": {},
   "outputs": [],
   "source": [
    "conn = psycopg2.connect(host=host,\n",
    "                       user=user,\n",
    "                       password=pwd,\n",
    "                       dbname=db)"
   ]
  },
  {
   "cell_type": "code",
   "execution_count": 4,
   "id": "d1ce0e00",
   "metadata": {},
   "outputs": [],
   "source": [
    "cur=conn.cursor()"
   ]
  },
  {
   "cell_type": "code",
   "execution_count": 5,
   "id": "a8011511",
   "metadata": {},
   "outputs": [],
   "source": [
    "sql=\"\"\"select * from student\"\"\""
   ]
  },
  {
   "cell_type": "code",
   "execution_count": 6,
   "id": "8a6046af",
   "metadata": {},
   "outputs": [
    {
     "data": {
      "text/html": [
       "<div>\n",
       "<style scoped>\n",
       "    .dataframe tbody tr th:only-of-type {\n",
       "        vertical-align: middle;\n",
       "    }\n",
       "\n",
       "    .dataframe tbody tr th {\n",
       "        vertical-align: top;\n",
       "    }\n",
       "\n",
       "    .dataframe thead th {\n",
       "        text-align: right;\n",
       "    }\n",
       "</style>\n",
       "<table border=\"1\" class=\"dataframe\">\n",
       "  <thead>\n",
       "    <tr style=\"text-align: right;\">\n",
       "      <th></th>\n",
       "      <th>s_email</th>\n",
       "      <th>s_name</th>\n",
       "      <th>major</th>\n",
       "    </tr>\n",
       "  </thead>\n",
       "  <tbody>\n",
       "    <tr>\n",
       "      <th>0</th>\n",
       "      <td>s1@jmu.edu</td>\n",
       "      <td>s1</td>\n",
       "      <td>IA</td>\n",
       "    </tr>\n",
       "    <tr>\n",
       "      <th>1</th>\n",
       "      <td>s2@jmu.edu</td>\n",
       "      <td>s2</td>\n",
       "      <td>IA</td>\n",
       "    </tr>\n",
       "    <tr>\n",
       "      <th>2</th>\n",
       "      <td>s3@jmu.edu</td>\n",
       "      <td>s3</td>\n",
       "      <td>ISAT</td>\n",
       "    </tr>\n",
       "    <tr>\n",
       "      <th>3</th>\n",
       "      <td>s4@jmu.edu</td>\n",
       "      <td>s4</td>\n",
       "      <td>ISAT</td>\n",
       "    </tr>\n",
       "    <tr>\n",
       "      <th>4</th>\n",
       "      <td>s5@jmu.edu</td>\n",
       "      <td>s5</td>\n",
       "      <td>GS</td>\n",
       "    </tr>\n",
       "  </tbody>\n",
       "</table>\n",
       "</div>"
      ],
      "text/plain": [
       "      s_email s_name major\n",
       "0  s1@jmu.edu     s1    IA\n",
       "1  s2@jmu.edu     s2    IA\n",
       "2  s3@jmu.edu     s3  ISAT\n",
       "3  s4@jmu.edu     s4  ISAT\n",
       "4  s5@jmu.edu     s5    GS"
      ]
     },
     "execution_count": 6,
     "metadata": {},
     "output_type": "execute_result"
    }
   ],
   "source": [
    "df = pandas.read_sql_query(sql,conn)\n",
    "df[:]\n"
   ]
  },
  {
   "cell_type": "code",
   "execution_count": 7,
   "id": "63a41487",
   "metadata": {},
   "outputs": [],
   "source": [
    "sql = \"\"\"select professor.p_name,\n",
    "                course.c_name\n",
    "                from professor\n",
    "                inner join course\n",
    "                on professor.p_email=course.p_email\"\"\""
   ]
  },
  {
   "cell_type": "code",
   "execution_count": 8,
   "id": "a729bd0a",
   "metadata": {},
   "outputs": [
    {
     "data": {
      "text/html": [
       "<div>\n",
       "<style scoped>\n",
       "    .dataframe tbody tr th:only-of-type {\n",
       "        vertical-align: middle;\n",
       "    }\n",
       "\n",
       "    .dataframe tbody tr th {\n",
       "        vertical-align: top;\n",
       "    }\n",
       "\n",
       "    .dataframe thead th {\n",
       "        text-align: right;\n",
       "    }\n",
       "</style>\n",
       "<table border=\"1\" class=\"dataframe\">\n",
       "  <thead>\n",
       "    <tr style=\"text-align: right;\">\n",
       "      <th></th>\n",
       "      <th>p_name</th>\n",
       "      <th>c_name</th>\n",
       "    </tr>\n",
       "  </thead>\n",
       "  <tbody>\n",
       "    <tr>\n",
       "      <th>0</th>\n",
       "      <td>p1</td>\n",
       "      <td>postgresql</td>\n",
       "    </tr>\n",
       "    <tr>\n",
       "      <th>1</th>\n",
       "      <td>p2</td>\n",
       "      <td>mongodb</td>\n",
       "    </tr>\n",
       "    <tr>\n",
       "      <th>2</th>\n",
       "      <td>p1</td>\n",
       "      <td>twitter</td>\n",
       "    </tr>\n",
       "  </tbody>\n",
       "</table>\n",
       "</div>"
      ],
      "text/plain": [
       "  p_name      c_name\n",
       "0     p1  postgresql\n",
       "1     p2     mongodb\n",
       "2     p1     twitter"
      ]
     },
     "execution_count": 8,
     "metadata": {},
     "output_type": "execute_result"
    }
   ],
   "source": [
    "df = pandas.read_sql_query(sql,conn)\n",
    "df[:]"
   ]
  },
  {
   "cell_type": "code",
   "execution_count": 9,
   "id": "4500b0f2",
   "metadata": {},
   "outputs": [],
   "source": [
    "sql = \"\"\"\n",
    "      select count(*) as c_count, c_number\n",
    "      from enroll\n",
    "      group by c_number\"\"\""
   ]
  },
  {
   "cell_type": "code",
   "execution_count": 10,
   "id": "3e5b5efe",
   "metadata": {},
   "outputs": [
    {
     "data": {
      "text/plain": [
       "<AxesSubplot:xlabel='c_number'>"
      ]
     },
     "execution_count": 10,
     "metadata": {},
     "output_type": "execute_result"
    },
    {
     "data": {
      "image/png": "[encoded data removed]",
      "text/plain": [
       "<Figure size 432x288 with 1 Axes>"
      ]
     },
     "metadata": {
      "needs_background": "light"
     },
     "output_type": "display_data"
    }
   ],
   "source": [
    "df = pandas.read_sql_query(sql,conn)\n",
    "df.plot.bar(x= 'c_number', y ='c_count')"
   ]
  },
  {
   "cell_type": "code",
   "execution_count": 11,
   "id": "faaa4498",
   "metadata": {},
   "outputs": [],
   "source": [
    "sql = sql = \"\"\"select professor.p_name,\n",
    "                count(*) as c_number\n",
    "                from professor\n",
    "                inner join course\n",
    "                on professor.p_email=course.p_email\n",
    "                group by professor.p_name\"\"\"\n"
   ]
  },
  {
   "cell_type": "code",
   "execution_count": 12,
   "id": "7cec6f9b",
   "metadata": {},
   "outputs": [
    {
     "data": {
      "text/plain": [
       "<AxesSubplot:xlabel='p_name'>"
      ]
     },
     "execution_count": 12,
     "metadata": {},
     "output_type": "execute_result"
    },
    {
     "data": {
      "image/png": "[encoded data removed]",
      "text/plain": [
       "<Figure size 432x288 with 1 Axes>"
      ]
     },
     "metadata": {
      "needs_background": "light"
     },
     "output_type": "display_data"
    }
   ],
   "source": [
    "df = pandas.read_sql_query(sql,conn)\n",
    "df.plot.bar(x='p_name',y='c_number')"
   ]
  },
  {
   "cell_type": "code",
   "execution_count": 13,
   "id": "5fc7d84b",
   "metadata": {},
   "outputs": [],
   "source": [
    "sql = \"\"\"\n",
    "        insert into professor(p_email,p_name,office)\n",
    "        values('{}','{}','{}')\n",
    "        \"\"\".format('p4@jmu.edu','p4','o4')\n"
   ]
  },
  {
   "cell_type": "code",
   "execution_count": 14,
   "id": "eebf9890",
   "metadata": {},
   "outputs": [],
   "source": [
    "cur.execute(sql)"
   ]
  },
  {
   "cell_type": "code",
   "execution_count": 15,
   "id": "db96b82d",
   "metadata": {},
   "outputs": [],
   "source": [
    "conn.commit()"
   ]
  },
  {
   "cell_type": "code",
   "execution_count": 16,
   "id": "3cfa7808",
   "metadata": {},
   "outputs": [],
   "source": [
    "sql = \"\"\"\n",
    "        insert into course(c_number,c_name,room,p_email)\n",
    "        values('{}','{}','{}','{}')\n",
    "        \"\"\".format('c5','linkedin','r2','p4@jmu.edu')"
   ]
  },
  {
   "cell_type": "code",
   "execution_count": 17,
   "id": "f9fafbf3",
   "metadata": {},
   "outputs": [],
   "source": [
    "cur.execute(sql)"
   ]
  },
  {
   "cell_type": "code",
   "execution_count": 18,
   "id": "da9b9385",
   "metadata": {},
   "outputs": [
    {
     "data": {
      "text/html": [
       "<div>\n",
       "<style scoped>\n",
       "    .dataframe tbody tr th:only-of-type {\n",
       "        vertical-align: middle;\n",
       "    }\n",
       "\n",
       "    .dataframe tbody tr th {\n",
       "        vertical-align: top;\n",
       "    }\n",
       "\n",
       "    .dataframe thead th {\n",
       "        text-align: right;\n",
       "    }\n",
       "</style>\n",
       "<table border=\"1\" class=\"dataframe\">\n",
       "  <thead>\n",
       "    <tr style=\"text-align: right;\">\n",
       "      <th></th>\n",
       "      <th>p_email</th>\n",
       "      <th>p_name</th>\n",
       "      <th>office</th>\n",
       "    </tr>\n",
       "  </thead>\n",
       "  <tbody>\n",
       "    <tr>\n",
       "      <th>0</th>\n",
       "      <td>p1@jmu.edu</td>\n",
       "      <td>p1</td>\n",
       "      <td>o1</td>\n",
       "    </tr>\n",
       "    <tr>\n",
       "      <th>1</th>\n",
       "      <td>p2@jmu.edu</td>\n",
       "      <td>p2</td>\n",
       "      <td>o2</td>\n",
       "    </tr>\n",
       "    <tr>\n",
       "      <th>2</th>\n",
       "      <td>p4@jmu.edu</td>\n",
       "      <td>p4</td>\n",
       "      <td>o4</td>\n",
       "    </tr>\n",
       "  </tbody>\n",
       "</table>\n",
       "</div>"
      ],
      "text/plain": [
       "      p_email p_name office\n",
       "0  p1@jmu.edu     p1     o1\n",
       "1  p2@jmu.edu     p2     o2\n",
       "2  p4@jmu.edu     p4     o4"
      ]
     },
     "execution_count": 18,
     "metadata": {},
     "output_type": "execute_result"
    }
   ],
   "source": [
    "df =pandas.read_sql_query('select * from professor',conn)\n",
    "df[:]"
   ]
  },
  {
   "cell_type": "code",
   "execution_count": 19,
   "id": "93c24db4",
   "metadata": {},
   "outputs": [
    {
     "data": {
      "text/html": [
       "<div>\n",
       "<style scoped>\n",
       "    .dataframe tbody tr th:only-of-type {\n",
       "        vertical-align: middle;\n",
       "    }\n",
       "\n",
       "    .dataframe tbody tr th {\n",
       "        vertical-align: top;\n",
       "    }\n",
       "\n",
       "    .dataframe thead th {\n",
       "        text-align: right;\n",
       "    }\n",
       "</style>\n",
       "<table border=\"1\" class=\"dataframe\">\n",
       "  <thead>\n",
       "    <tr style=\"text-align: right;\">\n",
       "      <th></th>\n",
       "      <th>p_email</th>\n",
       "      <th>p_name</th>\n",
       "      <th>office</th>\n",
       "    </tr>\n",
       "  </thead>\n",
       "  <tbody>\n",
       "    <tr>\n",
       "      <th>0</th>\n",
       "      <td>p1@jmu.edu</td>\n",
       "      <td>p1</td>\n",
       "      <td>o1</td>\n",
       "    </tr>\n",
       "    <tr>\n",
       "      <th>1</th>\n",
       "      <td>p2@jmu.edu</td>\n",
       "      <td>p2</td>\n",
       "      <td>o2</td>\n",
       "    </tr>\n",
       "    <tr>\n",
       "      <th>2</th>\n",
       "      <td>p4@jmu.edu</td>\n",
       "      <td>p4</td>\n",
       "      <td>o4</td>\n",
       "    </tr>\n",
       "  </tbody>\n",
       "</table>\n",
       "</div>"
      ],
      "text/plain": [
       "      p_email p_name office\n",
       "0  p1@jmu.edu     p1     o1\n",
       "1  p2@jmu.edu     p2     o2\n",
       "2  p4@jmu.edu     p4     o4"
      ]
     },
     "execution_count": 19,
     "metadata": {},
     "output_type": "execute_result"
    }
   ],
   "source": [
    "df =pandas.read_sql_query('select * from professor',conn)\n",
    "df[:]"
   ]
  },
  {
   "cell_type": "code",
   "execution_count": 20,
   "id": "204b3f81",
   "metadata": {},
   "outputs": [],
   "source": [
    "conn.commit()"
   ]
  },
  {
   "cell_type": "code",
   "execution_count": 21,
   "id": "3ef6e460",
   "metadata": {},
   "outputs": [],
   "source": [
    "sql =\"\"\"\n",
    "   update course\n",
    "   set p_email ='{}'\n",
    "   where p_email ='{}' \"\"\".format('p4@jmu.edu','p2@jmu.edu')"
   ]
  },
  {
   "cell_type": "code",
   "execution_count": 22,
   "id": "8dc8e235",
   "metadata": {},
   "outputs": [],
   "source": [
    "cur.execute(sql)"
   ]
  },
  {
   "cell_type": "code",
   "execution_count": 23,
   "id": "1ab75f9d",
   "metadata": {},
   "outputs": [],
   "source": [
    "conn.commit()"
   ]
  },
  {
   "cell_type": "code",
   "execution_count": 24,
   "id": "d89d949a",
   "metadata": {},
   "outputs": [
    {
     "data": {
      "text/html": [
       "<div>\n",
       "<style scoped>\n",
       "    .dataframe tbody tr th:only-of-type {\n",
       "        vertical-align: middle;\n",
       "    }\n",
       "\n",
       "    .dataframe tbody tr th {\n",
       "        vertical-align: top;\n",
       "    }\n",
       "\n",
       "    .dataframe thead th {\n",
       "        text-align: right;\n",
       "    }\n",
       "</style>\n",
       "<table border=\"1\" class=\"dataframe\">\n",
       "  <thead>\n",
       "    <tr style=\"text-align: right;\">\n",
       "      <th></th>\n",
       "      <th>c_number</th>\n",
       "      <th>c_name</th>\n",
       "      <th>room</th>\n",
       "      <th>p_email</th>\n",
       "    </tr>\n",
       "  </thead>\n",
       "  <tbody>\n",
       "    <tr>\n",
       "      <th>0</th>\n",
       "      <td>c1</td>\n",
       "      <td>postgresql</td>\n",
       "      <td>r1</td>\n",
       "      <td>p1@jmu.edu</td>\n",
       "    </tr>\n",
       "    <tr>\n",
       "      <th>1</th>\n",
       "      <td>c3</td>\n",
       "      <td>twitter</td>\n",
       "      <td>r1</td>\n",
       "      <td>p1@jmu.edu</td>\n",
       "    </tr>\n",
       "    <tr>\n",
       "      <th>2</th>\n",
       "      <td>c5</td>\n",
       "      <td>linkedin</td>\n",
       "      <td>r2</td>\n",
       "      <td>p4@jmu.edu</td>\n",
       "    </tr>\n",
       "    <tr>\n",
       "      <th>3</th>\n",
       "      <td>c2</td>\n",
       "      <td>mongodb</td>\n",
       "      <td>r2</td>\n",
       "      <td>p4@jmu.edu</td>\n",
       "    </tr>\n",
       "  </tbody>\n",
       "</table>\n",
       "</div>"
      ],
      "text/plain": [
       "  c_number      c_name room     p_email\n",
       "0       c1  postgresql   r1  p1@jmu.edu\n",
       "1       c3     twitter   r1  p1@jmu.edu\n",
       "2       c5    linkedin   r2  p4@jmu.edu\n",
       "3       c2     mongodb   r2  p4@jmu.edu"
      ]
     },
     "execution_count": 24,
     "metadata": {},
     "output_type": "execute_result"
    }
   ],
   "source": [
    "df =pandas.read_sql_query('select * from course',conn)\n",
    "df[:]"
   ]
  },
  {
   "cell_type": "code",
   "execution_count": 25,
   "id": "75ca86e5",
   "metadata": {},
   "outputs": [],
   "source": [
    "sql =\"\"\"\n",
    "    delete from professor where p_email='{}'\n",
    "\"\"\".format('p2@jmu.edu')"
   ]
  },
  {
   "cell_type": "code",
   "execution_count": 26,
   "id": "30b0b667",
   "metadata": {},
   "outputs": [],
   "source": [
    "cur.execute(sql)"
   ]
  },
  {
   "cell_type": "code",
   "execution_count": 27,
   "id": "5cd7cdc0",
   "metadata": {},
   "outputs": [],
   "source": [
    "conn.commit()"
   ]
  },
  {
   "cell_type": "code",
   "execution_count": 28,
   "id": "e27cb2be",
   "metadata": {},
   "outputs": [
    {
     "data": {
      "text/html": [
       "<div>\n",
       "<style scoped>\n",
       "    .dataframe tbody tr th:only-of-type {\n",
       "        vertical-align: middle;\n",
       "    }\n",
       "\n",
       "    .dataframe tbody tr th {\n",
       "        vertical-align: top;\n",
       "    }\n",
       "\n",
       "    .dataframe thead th {\n",
       "        text-align: right;\n",
       "    }\n",
       "</style>\n",
       "<table border=\"1\" class=\"dataframe\">\n",
       "  <thead>\n",
       "    <tr style=\"text-align: right;\">\n",
       "      <th></th>\n",
       "      <th>p_email</th>\n",
       "      <th>p_name</th>\n",
       "      <th>office</th>\n",
       "    </tr>\n",
       "  </thead>\n",
       "  <tbody>\n",
       "    <tr>\n",
       "      <th>0</th>\n",
       "      <td>p1@jmu.edu</td>\n",
       "      <td>p1</td>\n",
       "      <td>o1</td>\n",
       "    </tr>\n",
       "    <tr>\n",
       "      <th>1</th>\n",
       "      <td>p4@jmu.edu</td>\n",
       "      <td>p4</td>\n",
       "      <td>o4</td>\n",
       "    </tr>\n",
       "  </tbody>\n",
       "</table>\n",
       "</div>"
      ],
      "text/plain": [
       "      p_email p_name office\n",
       "0  p1@jmu.edu     p1     o1\n",
       "1  p4@jmu.edu     p4     o4"
      ]
     },
     "execution_count": 28,
     "metadata": {},
     "output_type": "execute_result"
    }
   ],
   "source": [
    "df =pandas.read_sql_query('select * from professor',conn)\n",
    "df[:]"
   ]
  },
  {
   "cell_type": "code",
   "execution_count": 29,
   "id": "32841c88",
   "metadata": {},
   "outputs": [],
   "source": [
    "cur.close()\n",
    "conn.close()"
   ]
  },
  {
   "cell_type": "code",
   "execution_count": null,
   "id": "0bf21d07",
   "metadata": {},
   "outputs": [],
   "source": []
  },
  {
   "cell_type": "code",
   "execution_count": null,
   "id": "2a7693ee",
   "metadata": {},
   "outputs": [],
   "source": []
  }
 ],
 "metadata": {
  "kernelspec": {
   "display_name": "conda_python3",
   "language": "python",
   "name": "conda_python3"
  },
  "language_info": {
   "codemirror_mode": {
    "name": "ipython",
    "version": 3
   },
   "file_extension": ".py",
   "mimetype": "text/x-python",
   "name": "python",
   "nbconvert_exporter": "python",
   "pygments_lexer": "ipython3",
   "version": "3.8.12"
  }
 },
 "nbformat": 4,
 "nbformat_minor": 5
}
