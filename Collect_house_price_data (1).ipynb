{
 "cells": [
  {
   "cell_type": "markdown",
   "id": "d90657ff",
   "metadata": {},
   "source": [
    "# Collect house price data\n",
    "\n",
    "The best way to collect house price data is using [Zillow API](https://www.zillow.com/howto/api/APIOverview.htm).\n",
    "\n",
    "This notebook is an academic demonstration of how to crawl information from websites. The data used in this demo is a single page manually downloaded from [Trulia](https://www.trulia.com) and then uploaded to a dummy website hosted by AWS S3."
   ]
  },
  {
   "cell_type": "markdown",
   "id": "e6f364cb",
   "metadata": {},
   "source": [
    "## Import libraries "
   ]
  },
  {
   "cell_type": "code",
   "execution_count": 3,
   "id": "3c573856",
   "metadata": {},
   "outputs": [],
   "source": [
    "import pandas\n",
    "import configparser\n",
    "import psycopg2"
   ]
  },
  {
   "cell_type": "code",
   "execution_count": 4,
   "id": "daaf6ac2",
   "metadata": {},
   "outputs": [],
   "source": [
    "config = configparser.ConfigParser()\n",
    "config.read('config.ini')\n",
    "\n",
    "host = config['myaws']['host']\n",
    "db = config['myaws']['db']\n",
    "user = config['myaws']['user']\n",
    "pwd = config['myaws']['pwd']"
   ]
  },
  {
   "cell_type": "code",
   "execution_count": 5,
   "id": "84f6a969",
   "metadata": {},
   "outputs": [],
   "source": [
    "conn = psycopg2.connect(host = host,\n",
    "                       user = user,\n",
    "                        password = pwd,\n",
    "                        dbname = db\n",
    "                       )\n",
    "cur = conn.cursor()"
   ]
  },
  {
   "cell_type": "markdown",
   "id": "9c699be8",
   "metadata": {},
   "source": [
    "## Create a table in database"
   ]
  },
  {
   "cell_type": "code",
   "execution_count": 11,
   "id": "10e84e7a",
   "metadata": {},
   "outputs": [],
   "source": [
    "# replace the schema and table name to your schema and table name if necessary\n",
    "table_sql = \"\"\"\n",
    "            CREATE TABLE IF NOT EXISTS house\n",
    "            (\n",
    "\n",
    "                price integer,\n",
    "                bed integer,\n",
    "                bath integer,\n",
    "                area integer,\n",
    "                address VARCHAR(200),\n",
    "                PRIMARY KEY(address)\n",
    "            );\n",
    "\n",
    "            \"\"\""
   ]
  },
  {
   "cell_type": "code",
   "execution_count": null,
   "id": "dc2b794a",
   "metadata": {},
   "outputs": [],
   "source": [
    "# conn.rollback()\n",
    "# table_sql=\"drop table if exists house\""
   ]
  },
  {
   "cell_type": "code",
   "execution_count": 12,
   "id": "39e7ef1a",
   "metadata": {},
   "outputs": [],
   "source": [
    "cur.execute(table_sql)\n",
    "conn.commit()"
   ]
  },
  {
   "cell_type": "markdown",
   "id": "7670840d",
   "metadata": {},
   "source": [
    "## Define the URL"
   ]
  },
  {
   "cell_type": "markdown",
   "id": "0b960240",
   "metadata": {},
   "source": [
    "Fill in the S3 website URL to the `url` variable."
   ]
  },
  {
   "cell_type": "code",
   "execution_count": 6,
   "id": "f0e80fb8",
   "metadata": {},
   "outputs": [],
   "source": [
    "url = 'http://demo-trulia-data-2022-fall.s3-website-us-east-1.amazonaws.com/'"
   ]
  },
  {
   "cell_type": "markdown",
   "id": "1f834fc4",
   "metadata": {},
   "source": [
    "## Collect the research results "
   ]
  },
  {
   "cell_type": "code",
   "execution_count": 7,
   "id": "a995ba93",
   "metadata": {},
   "outputs": [],
   "source": [
    "import urllib.request\n",
    "response = urllib.request.urlopen(url)\n",
    "html_data= response.read()\n",
    "# print(html_data.decode('utf-8'))"
   ]
  },
  {
   "cell_type": "code",
   "execution_count": 8,
   "id": "20127bcb",
   "metadata": {
    "scrolled": false
   },
   "outputs": [],
   "source": [
    "from bs4 import BeautifulSoup\n",
    "soup = BeautifulSoup(html_data,'html.parser')\n",
    "# print (soup)"
   ]
  },
  {
   "cell_type": "markdown",
   "id": "d68ee3db",
   "metadata": {},
   "source": [
    "## Insert the records into database"
   ]
  },
  {
   "cell_type": "code",
   "execution_count": 13,
   "id": "9501c5d3",
   "metadata": {
    "scrolled": false
   },
   "outputs": [],
   "source": [
    "for ul in soup.find_all('ul'):\n",
    "    for li_class in ul.find_all('li'):\n",
    "        try:\n",
    "            for price_div in li_class.find_all('div',{'data-testid':'property-price'}):\n",
    "                price =int(price_div.text.replace('$','').replace(\",\",\"\"))\n",
    "            for bed_div in li_class.find_all('div', {'data-testid':'property-beds'}):\n",
    "                bed= int(bed_div.text.replace('bd','').replace(\",\",\"\"))\n",
    "            for bath_div in li_class.find_all('div',{'data-testid':'property-baths'}):\n",
    "                bath =int(bath_div.text.replace('ba','').replace(\",\",\"\"))\n",
    "            for area_div in li_class.find_all('div',{'data-testid':'property-floorSpace'}):\n",
    "                area=int(area_div.text.split('sqft')[0].replace(\",\",\"\"))\n",
    "            for address_div in li_class.find_all('div',{'data-testid':'property-address'}):\n",
    "                address =address_div.text\n",
    "            try:\n",
    "                sql_insert = \"\"\"\n",
    "                            insert into house(price,bed,bath,area,address)\n",
    "                            values('{}','{}','{}','{}','{}')            \n",
    "                            \"\"\".format(price,bed,bath,area,address)\n",
    "\n",
    "                cur.execute(sql_insert)\n",
    "                conn.commit()\n",
    "            except:\n",
    "                conn.rollback()\n",
    "        except:\n",
    "            pass"
   ]
  },
  {
   "cell_type": "markdown",
   "id": "62c7e3dc",
   "metadata": {},
   "source": [
    "## Query the table"
   ]
  },
  {
   "cell_type": "code",
   "execution_count": 14,
   "id": "1ab19343",
   "metadata": {
    "scrolled": true
   },
   "outputs": [
    {
     "data": {
      "text/html": [
       "<div>\n",
       "<style scoped>\n",
       "    .dataframe tbody tr th:only-of-type {\n",
       "        vertical-align: middle;\n",
       "    }\n",
       "\n",
       "    .dataframe tbody tr th {\n",
       "        vertical-align: top;\n",
       "    }\n",
       "\n",
       "    .dataframe thead th {\n",
       "        text-align: right;\n",
       "    }\n",
       "</style>\n",
       "<table border=\"1\" class=\"dataframe\">\n",
       "  <thead>\n",
       "    <tr style=\"text-align: right;\">\n",
       "      <th></th>\n",
       "      <th>price</th>\n",
       "      <th>bed</th>\n",
       "      <th>bath</th>\n",
       "      <th>area</th>\n",
       "      <th>address</th>\n",
       "    </tr>\n",
       "  </thead>\n",
       "  <tbody>\n",
       "    <tr>\n",
       "      <th>0</th>\n",
       "      <td>262500</td>\n",
       "      <td>3</td>\n",
       "      <td>3</td>\n",
       "      <td>1306</td>\n",
       "      <td>3043 Locust Hill Dr   #22, Harrisonburg, VA 22801</td>\n",
       "    </tr>\n",
       "    <tr>\n",
       "      <th>1</th>\n",
       "      <td>319900</td>\n",
       "      <td>3</td>\n",
       "      <td>2</td>\n",
       "      <td>1740</td>\n",
       "      <td>501 Hickory Grove Cir, Harrisonburg, VA 22801</td>\n",
       "    </tr>\n",
       "    <tr>\n",
       "      <th>2</th>\n",
       "      <td>379000</td>\n",
       "      <td>3</td>\n",
       "      <td>3</td>\n",
       "      <td>2400</td>\n",
       "      <td>3204 Marion Sq, Harrisonburg, VA 22801</td>\n",
       "    </tr>\n",
       "    <tr>\n",
       "      <th>3</th>\n",
       "      <td>362500</td>\n",
       "      <td>3</td>\n",
       "      <td>3</td>\n",
       "      <td>1464</td>\n",
       "      <td>400 Franklin St, Harrisonburg, VA 22801</td>\n",
       "    </tr>\n",
       "    <tr>\n",
       "      <th>4</th>\n",
       "      <td>315000</td>\n",
       "      <td>4</td>\n",
       "      <td>2</td>\n",
       "      <td>2943</td>\n",
       "      <td>2548 Grace Chapel Rd, Rockingham, VA 22801</td>\n",
       "    </tr>\n",
       "    <tr>\n",
       "      <th>5</th>\n",
       "      <td>325000</td>\n",
       "      <td>4</td>\n",
       "      <td>2</td>\n",
       "      <td>1691</td>\n",
       "      <td>370 Effinger St, Harrisonburg, VA 22802</td>\n",
       "    </tr>\n",
       "    <tr>\n",
       "      <th>6</th>\n",
       "      <td>145000</td>\n",
       "      <td>4</td>\n",
       "      <td>2</td>\n",
       "      <td>1691</td>\n",
       "      <td>3010 Woodbury Cir  #63, Harrisonburg, VA 22802</td>\n",
       "    </tr>\n",
       "    <tr>\n",
       "      <th>7</th>\n",
       "      <td>249250</td>\n",
       "      <td>3</td>\n",
       "      <td>2</td>\n",
       "      <td>1568</td>\n",
       "      <td>672 E  Market St, Harrisonburg, VA 22801</td>\n",
       "    </tr>\n",
       "    <tr>\n",
       "      <th>8</th>\n",
       "      <td>99900</td>\n",
       "      <td>3</td>\n",
       "      <td>2</td>\n",
       "      <td>1568</td>\n",
       "      <td>152 Wilton Pl, Rockingham, VA 22801</td>\n",
       "    </tr>\n",
       "    <tr>\n",
       "      <th>9</th>\n",
       "      <td>299900</td>\n",
       "      <td>3</td>\n",
       "      <td>2</td>\n",
       "      <td>1792</td>\n",
       "      <td>130 N  Carlton St, Harrisonburg, VA 22802</td>\n",
       "    </tr>\n",
       "    <tr>\n",
       "      <th>10</th>\n",
       "      <td>649900</td>\n",
       "      <td>3</td>\n",
       "      <td>3</td>\n",
       "      <td>2662</td>\n",
       "      <td>115 Alnwick Ct, Harrisonburg, VA 22801</td>\n",
       "    </tr>\n",
       "    <tr>\n",
       "      <th>11</th>\n",
       "      <td>349900</td>\n",
       "      <td>3</td>\n",
       "      <td>3</td>\n",
       "      <td>2662</td>\n",
       "      <td>455 Rodeo Dr, Harrisonburg, VA 22802</td>\n",
       "    </tr>\n",
       "    <tr>\n",
       "      <th>12</th>\n",
       "      <td>109000</td>\n",
       "      <td>3</td>\n",
       "      <td>3</td>\n",
       "      <td>2662</td>\n",
       "      <td>535 Virginia Ave, Harrisonburg, VA 22802</td>\n",
       "    </tr>\n",
       "    <tr>\n",
       "      <th>13</th>\n",
       "      <td>295000</td>\n",
       "      <td>2</td>\n",
       "      <td>2</td>\n",
       "      <td>1557</td>\n",
       "      <td>390 Hickory Grove Cir, Harrisonburg, VA 22801</td>\n",
       "    </tr>\n",
       "    <tr>\n",
       "      <th>14</th>\n",
       "      <td>419990</td>\n",
       "      <td>4</td>\n",
       "      <td>3</td>\n",
       "      <td>2397</td>\n",
       "      <td>20 Ridge Haven Dr, Harrisonburg, VA 22801</td>\n",
       "    </tr>\n",
       "    <tr>\n",
       "      <th>15</th>\n",
       "      <td>439990</td>\n",
       "      <td>3</td>\n",
       "      <td>2</td>\n",
       "      <td>2291</td>\n",
       "      <td>22 Ridge Haven Dr, Harrisonburg, VA 22801</td>\n",
       "    </tr>\n",
       "    <tr>\n",
       "      <th>16</th>\n",
       "      <td>484990</td>\n",
       "      <td>5</td>\n",
       "      <td>3</td>\n",
       "      <td>3571</td>\n",
       "      <td>23 Ridge Haven Dr, Harrisonburg, VA 22801</td>\n",
       "    </tr>\n",
       "    <tr>\n",
       "      <th>17</th>\n",
       "      <td>464990</td>\n",
       "      <td>4</td>\n",
       "      <td>3</td>\n",
       "      <td>3133</td>\n",
       "      <td>5 Ridge Haven Dr, Harrisonburg, VA 22801</td>\n",
       "    </tr>\n",
       "    <tr>\n",
       "      <th>18</th>\n",
       "      <td>950000</td>\n",
       "      <td>4</td>\n",
       "      <td>5</td>\n",
       "      <td>4817</td>\n",
       "      <td>710 New York Ave, Harrisonburg, VA 22801</td>\n",
       "    </tr>\n",
       "    <tr>\n",
       "      <th>19</th>\n",
       "      <td>304990</td>\n",
       "      <td>3</td>\n",
       "      <td>2</td>\n",
       "      <td>1307</td>\n",
       "      <td>49 Tailor Dr, Harrisonburg, VA 22801</td>\n",
       "    </tr>\n",
       "    <tr>\n",
       "      <th>20</th>\n",
       "      <td>334990</td>\n",
       "      <td>4</td>\n",
       "      <td>3</td>\n",
       "      <td>1680</td>\n",
       "      <td>48 Tailor Dr, Harrisonburg, VA 22801</td>\n",
       "    </tr>\n",
       "    <tr>\n",
       "      <th>21</th>\n",
       "      <td>324990</td>\n",
       "      <td>3</td>\n",
       "      <td>2</td>\n",
       "      <td>1296</td>\n",
       "      <td>47 Tailor Dr, Harrisonburg, VA 22801</td>\n",
       "    </tr>\n",
       "    <tr>\n",
       "      <th>22</th>\n",
       "      <td>354990</td>\n",
       "      <td>4</td>\n",
       "      <td>3</td>\n",
       "      <td>1903</td>\n",
       "      <td>46 Tailor Dr, Harrisonburg, VA 22801</td>\n",
       "    </tr>\n",
       "    <tr>\n",
       "      <th>23</th>\n",
       "      <td>374990</td>\n",
       "      <td>5</td>\n",
       "      <td>3</td>\n",
       "      <td>2203</td>\n",
       "      <td>45 Tailor Dr, Harrisonburg, VA 22801</td>\n",
       "    </tr>\n",
       "    <tr>\n",
       "      <th>24</th>\n",
       "      <td>250000</td>\n",
       "      <td>5</td>\n",
       "      <td>3</td>\n",
       "      <td>2203</td>\n",
       "      <td>581 Myers Ave, Harrisonburg, VA 22801</td>\n",
       "    </tr>\n",
       "    <tr>\n",
       "      <th>25</th>\n",
       "      <td>639000</td>\n",
       "      <td>5</td>\n",
       "      <td>4</td>\n",
       "      <td>4869</td>\n",
       "      <td>3658 Traveler Rd, Rockingham, VA 22801</td>\n",
       "    </tr>\n",
       "    <tr>\n",
       "      <th>26</th>\n",
       "      <td>155000</td>\n",
       "      <td>2</td>\n",
       "      <td>2</td>\n",
       "      <td>982</td>\n",
       "      <td>1340 Hunters Rd #K, Harrisonburg, VA 22801</td>\n",
       "    </tr>\n",
       "    <tr>\n",
       "      <th>27</th>\n",
       "      <td>399900</td>\n",
       "      <td>3</td>\n",
       "      <td>3</td>\n",
       "      <td>2827</td>\n",
       "      <td>2111 Whispering Springs Rd, Harrisonburg, VA 2...</td>\n",
       "    </tr>\n",
       "    <tr>\n",
       "      <th>28</th>\n",
       "      <td>1050000</td>\n",
       "      <td>7</td>\n",
       "      <td>4</td>\n",
       "      <td>4768</td>\n",
       "      <td>3105 Wellsleigh Pl, Harrisonburg, VA 22801</td>\n",
       "    </tr>\n",
       "    <tr>\n",
       "      <th>29</th>\n",
       "      <td>279900</td>\n",
       "      <td>3</td>\n",
       "      <td>3</td>\n",
       "      <td>2004</td>\n",
       "      <td>573 Pointe Dr, Harrisonburg, VA 22801</td>\n",
       "    </tr>\n",
       "    <tr>\n",
       "      <th>30</th>\n",
       "      <td>697000</td>\n",
       "      <td>5</td>\n",
       "      <td>4</td>\n",
       "      <td>3533</td>\n",
       "      <td>3945 Traveler Rd, Rockingham, VA 22801</td>\n",
       "    </tr>\n",
       "    <tr>\n",
       "      <th>31</th>\n",
       "      <td>260000</td>\n",
       "      <td>3</td>\n",
       "      <td>3</td>\n",
       "      <td>1306</td>\n",
       "      <td>3035 Locust Hill Dr   #20, Harrisonburg, VA 22801</td>\n",
       "    </tr>\n",
       "    <tr>\n",
       "      <th>32</th>\n",
       "      <td>225000</td>\n",
       "      <td>3</td>\n",
       "      <td>1</td>\n",
       "      <td>1092</td>\n",
       "      <td>226 Sunrise Ave, Harrisonburg, VA 22801</td>\n",
       "    </tr>\n",
       "    <tr>\n",
       "      <th>33</th>\n",
       "      <td>475000</td>\n",
       "      <td>3</td>\n",
       "      <td>4</td>\n",
       "      <td>3073</td>\n",
       "      <td>3313 Preston Shore Dr, Rockingham, VA 22801</td>\n",
       "    </tr>\n",
       "    <tr>\n",
       "      <th>34</th>\n",
       "      <td>267500</td>\n",
       "      <td>3</td>\n",
       "      <td>3</td>\n",
       "      <td>1756</td>\n",
       "      <td>1043 Virginia Ave, Harrisonburg, VA 22802</td>\n",
       "    </tr>\n",
       "    <tr>\n",
       "      <th>35</th>\n",
       "      <td>96900</td>\n",
       "      <td>3</td>\n",
       "      <td>3</td>\n",
       "      <td>1756</td>\n",
       "      <td>Brompton Ct   #237, Harrisonburg, VA 22801</td>\n",
       "    </tr>\n",
       "    <tr>\n",
       "      <th>36</th>\n",
       "      <td>299900</td>\n",
       "      <td>3</td>\n",
       "      <td>3</td>\n",
       "      <td>1760</td>\n",
       "      <td>2244 Lapis Ln, Harrisonburg, VA 22801</td>\n",
       "    </tr>\n",
       "  </tbody>\n",
       "</table>\n",
       "</div>"
      ],
      "text/plain": [
       "      price  bed  bath  area  \\\n",
       "0    262500    3     3  1306   \n",
       "1    319900    3     2  1740   \n",
       "2    379000    3     3  2400   \n",
       "3    362500    3     3  1464   \n",
       "4    315000    4     2  2943   \n",
       "5    325000    4     2  1691   \n",
       "6    145000    4     2  1691   \n",
       "7    249250    3     2  1568   \n",
       "8     99900    3     2  1568   \n",
       "9    299900    3     2  1792   \n",
       "10   649900    3     3  2662   \n",
       "11   349900    3     3  2662   \n",
       "12   109000    3     3  2662   \n",
       "13   295000    2     2  1557   \n",
       "14   419990    4     3  2397   \n",
       "15   439990    3     2  2291   \n",
       "16   484990    5     3  3571   \n",
       "17   464990    4     3  3133   \n",
       "18   950000    4     5  4817   \n",
       "19   304990    3     2  1307   \n",
       "20   334990    4     3  1680   \n",
       "21   324990    3     2  1296   \n",
       "22   354990    4     3  1903   \n",
       "23   374990    5     3  2203   \n",
       "24   250000    5     3  2203   \n",
       "25   639000    5     4  4869   \n",
       "26   155000    2     2   982   \n",
       "27   399900    3     3  2827   \n",
       "28  1050000    7     4  4768   \n",
       "29   279900    3     3  2004   \n",
       "30   697000    5     4  3533   \n",
       "31   260000    3     3  1306   \n",
       "32   225000    3     1  1092   \n",
       "33   475000    3     4  3073   \n",
       "34   267500    3     3  1756   \n",
       "35    96900    3     3  1756   \n",
       "36   299900    3     3  1760   \n",
       "\n",
       "                                              address  \n",
       "0   3043 Locust Hill Dr   #22, Harrisonburg, VA 22801  \n",
       "1       501 Hickory Grove Cir, Harrisonburg, VA 22801  \n",
       "2              3204 Marion Sq, Harrisonburg, VA 22801  \n",
       "3             400 Franklin St, Harrisonburg, VA 22801  \n",
       "4          2548 Grace Chapel Rd, Rockingham, VA 22801  \n",
       "5             370 Effinger St, Harrisonburg, VA 22802  \n",
       "6      3010 Woodbury Cir  #63, Harrisonburg, VA 22802  \n",
       "7            672 E  Market St, Harrisonburg, VA 22801  \n",
       "8                 152 Wilton Pl, Rockingham, VA 22801  \n",
       "9           130 N  Carlton St, Harrisonburg, VA 22802  \n",
       "10             115 Alnwick Ct, Harrisonburg, VA 22801  \n",
       "11               455 Rodeo Dr, Harrisonburg, VA 22802  \n",
       "12           535 Virginia Ave, Harrisonburg, VA 22802  \n",
       "13      390 Hickory Grove Cir, Harrisonburg, VA 22801  \n",
       "14          20 Ridge Haven Dr, Harrisonburg, VA 22801  \n",
       "15          22 Ridge Haven Dr, Harrisonburg, VA 22801  \n",
       "16          23 Ridge Haven Dr, Harrisonburg, VA 22801  \n",
       "17           5 Ridge Haven Dr, Harrisonburg, VA 22801  \n",
       "18           710 New York Ave, Harrisonburg, VA 22801  \n",
       "19               49 Tailor Dr, Harrisonburg, VA 22801  \n",
       "20               48 Tailor Dr, Harrisonburg, VA 22801  \n",
       "21               47 Tailor Dr, Harrisonburg, VA 22801  \n",
       "22               46 Tailor Dr, Harrisonburg, VA 22801  \n",
       "23               45 Tailor Dr, Harrisonburg, VA 22801  \n",
       "24              581 Myers Ave, Harrisonburg, VA 22801  \n",
       "25             3658 Traveler Rd, Rockingham, VA 22801  \n",
       "26         1340 Hunters Rd #K, Harrisonburg, VA 22801  \n",
       "27  2111 Whispering Springs Rd, Harrisonburg, VA 2...  \n",
       "28         3105 Wellsleigh Pl, Harrisonburg, VA 22801  \n",
       "29              573 Pointe Dr, Harrisonburg, VA 22801  \n",
       "30             3945 Traveler Rd, Rockingham, VA 22801  \n",
       "31  3035 Locust Hill Dr   #20, Harrisonburg, VA 22801  \n",
       "32            226 Sunrise Ave, Harrisonburg, VA 22801  \n",
       "33        3313 Preston Shore Dr, Rockingham, VA 22801  \n",
       "34          1043 Virginia Ave, Harrisonburg, VA 22802  \n",
       "35         Brompton Ct   #237, Harrisonburg, VA 22801  \n",
       "36              2244 Lapis Ln, Harrisonburg, VA 22801  "
      ]
     },
     "execution_count": 14,
     "metadata": {},
     "output_type": "execute_result"
    }
   ],
   "source": [
    "df = pandas.read_sql_query('select * from house ', conn)\n",
    "df[:]"
   ]
  },
  {
   "cell_type": "markdown",
   "id": "793299f6",
   "metadata": {},
   "source": [
    "## Basic statistics "
   ]
  },
  {
   "cell_type": "code",
   "execution_count": 15,
   "id": "4b1efba0",
   "metadata": {},
   "outputs": [
    {
     "data": {
      "text/html": [
       "<div>\n",
       "<style scoped>\n",
       "    .dataframe tbody tr th:only-of-type {\n",
       "        vertical-align: middle;\n",
       "    }\n",
       "\n",
       "    .dataframe tbody tr th {\n",
       "        vertical-align: top;\n",
       "    }\n",
       "\n",
       "    .dataframe thead th {\n",
       "        text-align: right;\n",
       "    }\n",
       "</style>\n",
       "<table border=\"1\" class=\"dataframe\">\n",
       "  <thead>\n",
       "    <tr style=\"text-align: right;\">\n",
       "      <th></th>\n",
       "      <th>price</th>\n",
       "      <th>bed</th>\n",
       "      <th>bath</th>\n",
       "      <th>area</th>\n",
       "    </tr>\n",
       "  </thead>\n",
       "  <tbody>\n",
       "    <tr>\n",
       "      <th>count</th>\n",
       "      <td>3.700000e+01</td>\n",
       "      <td>37.000000</td>\n",
       "      <td>37.000000</td>\n",
       "      <td>37.000000</td>\n",
       "    </tr>\n",
       "    <tr>\n",
       "      <th>mean</th>\n",
       "      <td>3.705881e+05</td>\n",
       "      <td>3.540541</td>\n",
       "      <td>2.783784</td>\n",
       "      <td>2276.567568</td>\n",
       "    </tr>\n",
       "    <tr>\n",
       "      <th>std</th>\n",
       "      <td>2.064287e+05</td>\n",
       "      <td>0.988675</td>\n",
       "      <td>0.786523</td>\n",
       "      <td>1012.027188</td>\n",
       "    </tr>\n",
       "    <tr>\n",
       "      <th>min</th>\n",
       "      <td>9.690000e+04</td>\n",
       "      <td>2.000000</td>\n",
       "      <td>1.000000</td>\n",
       "      <td>982.000000</td>\n",
       "    </tr>\n",
       "    <tr>\n",
       "      <th>25%</th>\n",
       "      <td>2.625000e+05</td>\n",
       "      <td>3.000000</td>\n",
       "      <td>2.000000</td>\n",
       "      <td>1568.000000</td>\n",
       "    </tr>\n",
       "    <tr>\n",
       "      <th>50%</th>\n",
       "      <td>3.249900e+05</td>\n",
       "      <td>3.000000</td>\n",
       "      <td>3.000000</td>\n",
       "      <td>1903.000000</td>\n",
       "    </tr>\n",
       "    <tr>\n",
       "      <th>75%</th>\n",
       "      <td>4.199900e+05</td>\n",
       "      <td>4.000000</td>\n",
       "      <td>3.000000</td>\n",
       "      <td>2662.000000</td>\n",
       "    </tr>\n",
       "    <tr>\n",
       "      <th>max</th>\n",
       "      <td>1.050000e+06</td>\n",
       "      <td>7.000000</td>\n",
       "      <td>5.000000</td>\n",
       "      <td>4869.000000</td>\n",
       "    </tr>\n",
       "  </tbody>\n",
       "</table>\n",
       "</div>"
      ],
      "text/plain": [
       "              price        bed       bath         area\n",
       "count  3.700000e+01  37.000000  37.000000    37.000000\n",
       "mean   3.705881e+05   3.540541   2.783784  2276.567568\n",
       "std    2.064287e+05   0.988675   0.786523  1012.027188\n",
       "min    9.690000e+04   2.000000   1.000000   982.000000\n",
       "25%    2.625000e+05   3.000000   2.000000  1568.000000\n",
       "50%    3.249900e+05   3.000000   3.000000  1903.000000\n",
       "75%    4.199900e+05   4.000000   3.000000  2662.000000\n",
       "max    1.050000e+06   7.000000   5.000000  4869.000000"
      ]
     },
     "execution_count": 15,
     "metadata": {},
     "output_type": "execute_result"
    }
   ],
   "source": [
    "df.describe()"
   ]
  },
  {
   "cell_type": "markdown",
   "id": "47e24cb4",
   "metadata": {},
   "source": [
    "## Price distribution"
   ]
  },
  {
   "cell_type": "code",
   "execution_count": 16,
   "id": "e9631912",
   "metadata": {
    "scrolled": false
   },
   "outputs": [
    {
     "data": {
      "text/plain": [
       "<AxesSubplot:>"
      ]
     },
     "execution_count": 16,
     "metadata": {},
     "output_type": "execute_result"
    },
    {
     "data": {
      "image/png": "[encoded data removed]",
      "text/plain": [
       "<Figure size 432x288 with 1 Axes>"
      ]
     },
     "metadata": {
      "needs_background": "light"
     },
     "output_type": "display_data"
    }
   ],
   "source": [
    "df['price'].hist()"
   ]
  },
  {
   "cell_type": "code",
   "execution_count": 18,
   "id": "0f9a674a",
   "metadata": {},
   "outputs": [
    {
     "data": {
      "text/plain": [
       "<AxesSubplot:xlabel='bed', ylabel='bath'>"
      ]
     },
     "execution_count": 18,
     "metadata": {},
     "output_type": "execute_result"
    },
    {
     "data": {
      "image/png": "[encoded data removed]",
      "text/plain": [
       "<Figure size 432x288 with 1 Axes>"
      ]
     },
     "metadata": {
      "needs_background": "light"
     },
     "output_type": "display_data"
    }
   ],
   "source": [
    "df.plot.scatter(x='bed',y='bath')"
   ]
  },
  {
   "cell_type": "code",
   "execution_count": 19,
   "id": "f58bf60d",
   "metadata": {},
   "outputs": [
    {
     "name": "stderr",
     "output_type": "stream",
     "text": [
      "/tmp/ipykernel_18870/3698961737.py:1: FutureWarning: Dropping of nuisance columns in DataFrame reductions (with 'numeric_only=None') is deprecated; in a future version this will raise TypeError.  Select only valid columns before calling the reduction.\n",
      "  df.mean()\n"
     ]
    },
    {
     "data": {
      "text/plain": [
       "price    370588.108108\n",
       "bed           3.540541\n",
       "bath          2.783784\n",
       "area       2276.567568\n",
       "dtype: float64"
      ]
     },
     "execution_count": 19,
     "metadata": {},
     "output_type": "execute_result"
    }
   ],
   "source": [
    "df.mean()"
   ]
  },
  {
   "cell_type": "code",
   "execution_count": 20,
   "id": "dab76081",
   "metadata": {},
   "outputs": [],
   "source": [
    "sql = 'select avg(price) as avg_price from house'"
   ]
  },
  {
   "cell_type": "code",
   "execution_count": 21,
   "id": "39c3f594",
   "metadata": {},
   "outputs": [
    {
     "data": {
      "text/html": [
       "<div>\n",
       "<style scoped>\n",
       "    .dataframe tbody tr th:only-of-type {\n",
       "        vertical-align: middle;\n",
       "    }\n",
       "\n",
       "    .dataframe tbody tr th {\n",
       "        vertical-align: top;\n",
       "    }\n",
       "\n",
       "    .dataframe thead th {\n",
       "        text-align: right;\n",
       "    }\n",
       "</style>\n",
       "<table border=\"1\" class=\"dataframe\">\n",
       "  <thead>\n",
       "    <tr style=\"text-align: right;\">\n",
       "      <th></th>\n",
       "      <th>avg_price</th>\n",
       "    </tr>\n",
       "  </thead>\n",
       "  <tbody>\n",
       "    <tr>\n",
       "      <th>0</th>\n",
       "      <td>370588.108108</td>\n",
       "    </tr>\n",
       "  </tbody>\n",
       "</table>\n",
       "</div>"
      ],
      "text/plain": [
       "       avg_price\n",
       "0  370588.108108"
      ]
     },
     "execution_count": 21,
     "metadata": {},
     "output_type": "execute_result"
    }
   ],
   "source": [
    "df = pandas.read_sql_query(sql,conn)\n",
    "df[:]"
   ]
  },
  {
   "cell_type": "code",
   "execution_count": 23,
   "id": "c125c7c5",
   "metadata": {},
   "outputs": [],
   "source": [
    "sql = 'select avg(price/area) as avg_unit_price from house'"
   ]
  },
  {
   "cell_type": "code",
   "execution_count": 24,
   "id": "8d766811",
   "metadata": {},
   "outputs": [
    {
     "data": {
      "text/html": [
       "<div>\n",
       "<style scoped>\n",
       "    .dataframe tbody tr th:only-of-type {\n",
       "        vertical-align: middle;\n",
       "    }\n",
       "\n",
       "    .dataframe tbody tr th {\n",
       "        vertical-align: top;\n",
       "    }\n",
       "\n",
       "    .dataframe thead th {\n",
       "        text-align: right;\n",
       "    }\n",
       "</style>\n",
       "<table border=\"1\" class=\"dataframe\">\n",
       "  <thead>\n",
       "    <tr style=\"text-align: right;\">\n",
       "      <th></th>\n",
       "      <th>avg_unit_price</th>\n",
       "    </tr>\n",
       "  </thead>\n",
       "  <tbody>\n",
       "    <tr>\n",
       "      <th>0</th>\n",
       "      <td>164.378378</td>\n",
       "    </tr>\n",
       "  </tbody>\n",
       "</table>\n",
       "</div>"
      ],
      "text/plain": [
       "   avg_unit_price\n",
       "0      164.378378"
      ]
     },
     "execution_count": 24,
     "metadata": {},
     "output_type": "execute_result"
    }
   ],
   "source": [
    "df = pandas.read_sql_query(sql,conn)\n",
    "df[:]"
   ]
  },
  {
   "cell_type": "code",
   "execution_count": null,
   "id": "c305dd85",
   "metadata": {},
   "outputs": [],
   "source": []
  }
 ],
 "metadata": {
  "kernelspec": {
   "display_name": "conda_python3",
   "language": "python",
   "name": "conda_python3"
  },
  "language_info": {
   "codemirror_mode": {
    "name": "ipython",
    "version": 3
   },
   "file_extension": ".py",
   "mimetype": "text/x-python",
   "name": "python",
   "nbconvert_exporter": "python",
   "pygments_lexer": "ipython3",
   "version": "3.8.12"
  }
 },
 "nbformat": 4,
 "nbformat_minor": 5
}
